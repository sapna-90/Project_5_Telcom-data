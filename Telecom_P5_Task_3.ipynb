{
  "nbformat": 4,
  "nbformat_minor": 0,
  "metadata": {
    "colab": {
      "provenance": [],
      "authorship_tag": "ABX9TyMQr1lbda5gWLLlVsOwf/1N",
      "include_colab_link": true
    },
    "kernelspec": {
      "name": "python3",
      "display_name": "Python 3"
    },
    "language_info": {
      "name": "python"
    }
  },
  "cells": [
    {
      "cell_type": "markdown",
      "metadata": {
        "id": "view-in-github",
        "colab_type": "text"
      },
      "source": [
        "<a href=\"https://colab.research.google.com/github/sapna-90/Project_5_Telcom-data/blob/main/Telecom_P5_Task_3.ipynb\" target=\"_parent\"><img src=\"https://colab.research.google.com/assets/colab-badge.svg\" alt=\"Open In Colab\"/></a>"
      ]
    },
    {
      "cell_type": "code",
      "execution_count": 28,
      "metadata": {
        "id": "vM9eX3aQdmma"
      },
      "outputs": [],
      "source": [
        "  import numpy as np\n",
        "  import pandas as pd\n",
        "  import seaborn as sns\n",
        "  import matplotlib.pyplot as plt\n",
        "  from sklearn.decomposition import PCA\n",
        "  from sklearn.preprocessing import StandardScaler\n",
        "  from sklearn.cluster import KMeans"
      ]
    },
    {
      "cell_type": "code",
      "source": [
        "Dataset_3 = pd.read_csv(r\"/content/Project_5 - Data_cleaned.csv\")"
      ],
      "metadata": {
        "id": "ESNjHyq9d6xN"
      },
      "execution_count": 2,
      "outputs": []
    },
    {
      "cell_type": "code",
      "source": [
        "Dataset_3.columns"
      ],
      "metadata": {
        "id": "c9AEz1aUeBwn",
        "colab": {
          "base_uri": "https://localhost:8080/"
        },
        "collapsed": true,
        "outputId": "39364a29-3dfb-46ca-8cff-dbbf5b7a004a"
      },
      "execution_count": 5,
      "outputs": [
        {
          "output_type": "execute_result",
          "data": {
            "text/plain": [
              "Index(['Bearer Id', 'Start', 'Start ms', 'End', 'End ms', 'Dur. (ms)', 'IMSI',\n",
              "       'MSISDN/Number', 'IMEI', 'Last Location Name', 'Avg RTT DL (ms)',\n",
              "       'Avg RTT UL (ms)', 'Avg Bearer TP DL (kbps)', 'Avg Bearer TP UL (kbps)',\n",
              "       'TCP DL Retrans. Vol (Bytes)', 'DL TP < 50 Kbps (%)',\n",
              "       '50 Kbps < DL TP < 250 Kbps (%)', '250 Kbps < DL TP < 1 Mbps (%)',\n",
              "       'DL TP > 1 Mbps (%)', 'UL TP < 10 Kbps (%)',\n",
              "       '10 Kbps < UL TP < 50 Kbps (%)', '50 Kbps < UL TP < 300 Kbps (%)',\n",
              "       'UL TP > 300 Kbps (%)', 'HTTP DL (Bytes)', 'HTTP UL (Bytes)',\n",
              "       'Activity Duration DL (ms)', 'Activity Duration UL (ms)', 'Dur. (ms).1',\n",
              "       'Handset Manufacturer', 'Handset Type',\n",
              "       'Nb of sec with 6250B < Vol DL < 31250B',\n",
              "       'Nb of sec with Vol DL < 6250B', 'Nb of sec with Vol UL < 1250B',\n",
              "       'Social Media DL (Bytes)', 'Social Media UL (Bytes)',\n",
              "       'Google DL (Bytes)', 'Google UL (Bytes)', 'Email DL (Bytes)',\n",
              "       'Email UL (Bytes)', 'Youtube DL (Bytes)', 'Youtube UL (Bytes)',\n",
              "       'Netflix DL (Bytes)', 'Netflix UL (Bytes)', 'Gaming DL (Bytes)',\n",
              "       'Gaming UL (Bytes)', 'Other DL (Bytes)', 'Other UL (Bytes)',\n",
              "       'Total UL (Bytes)', 'Total DL (Bytes)'],\n",
              "      dtype='object')"
            ]
          },
          "metadata": {},
          "execution_count": 5
        }
      ]
    },
    {
      "cell_type": "code",
      "source": [
        "# Define relevant columns\n",
        "relevant_columns = [\n",
        "    'IMSI', 'TCP DL Retrans. Vol (Bytes)', 'Avg RTT DL (ms)', 'Avg RTT UL (ms)',\n",
        "    'Avg Bearer TP DL (kbps)', 'Avg Bearer TP UL (kbps)', 'Handset Type'\n",
        "]"
      ],
      "metadata": {
        "id": "erl43bSbni5P"
      },
      "execution_count": 6,
      "outputs": []
    },
    {
      "cell_type": "code",
      "source": [
        "# Subset the data\n",
        "subset_data = Dataset_3[relevant_columns]"
      ],
      "metadata": {
        "id": "yQHmTy_jn2gr"
      },
      "execution_count": 7,
      "outputs": []
    },
    {
      "cell_type": "code",
      "source": [
        "# Replace missing values\n",
        "subset_data.fillna({\n",
        "    'TCP DL Retrans. Vol (Bytes)': subset_data['TCP DL Retrans. Vol (Bytes)'].mean(),\n",
        "    'Avg RTT DL (ms)': subset_data['Avg RTT DL (ms)'].mean(),\n",
        "    'Avg RTT UL (ms)': subset_data['Avg RTT UL (ms)'].mean(),\n",
        "    'Avg Bearer TP DL (kbps)': subset_data['Avg Bearer TP DL (kbps)'].mean(),\n",
        "    'Avg Bearer TP UL (kbps)': subset_data['Avg Bearer TP UL (kbps)'].mean(),\n",
        "    'Handset Type': subset_data['Handset Type'].mode()[0]\n",
        "}, inplace=True)"
      ],
      "metadata": {
        "colab": {
          "base_uri": "https://localhost:8080/"
        },
        "id": "nRWdGvneoJtl",
        "outputId": "94f85512-5a09-490f-c6de-d1e2deea96f2"
      },
      "execution_count": 8,
      "outputs": [
        {
          "output_type": "stream",
          "name": "stderr",
          "text": [
            "<ipython-input-8-9a18c5f7aa5b>:2: SettingWithCopyWarning: \n",
            "A value is trying to be set on a copy of a slice from a DataFrame\n",
            "\n",
            "See the caveats in the documentation: https://pandas.pydata.org/pandas-docs/stable/user_guide/indexing.html#returning-a-view-versus-a-copy\n",
            "  subset_data.fillna({\n"
          ]
        }
      ]
    },
    {
      "cell_type": "code",
      "source": [
        "# Aggregating per customer\n",
        "aggregated_data = subset_data.groupby('IMSI').agg({\n",
        "    'TCP DL Retrans. Vol (Bytes)': 'mean',\n",
        "    'Avg RTT DL (ms)': 'mean',\n",
        "    'Avg RTT UL (ms)': 'mean',\n",
        "    'Avg Bearer TP DL (kbps)': 'mean',\n",
        "    'Avg Bearer TP UL (kbps)': 'mean',\n",
        "    'Handset Type': 'first'\n",
        "}).reset_index()"
      ],
      "metadata": {
        "id": "MVp6Jk88oTeE"
      },
      "execution_count": 9,
      "outputs": []
    },
    {
      "cell_type": "code",
      "source": [
        "# Rename columns for clarity\n",
        "aggregated_data.rename(columns={\n",
        "    'TCP DL Retrans. Vol (Bytes)': 'Avg TCP Retransmission (Bytes)',\n",
        "    'Avg RTT DL (ms)': 'Avg RTT DL (ms)',\n",
        "    'Avg RTT UL (ms)': 'Avg RTT UL (ms)',\n",
        "    'Avg Bearer TP DL (kbps)': 'Avg Throughput DL (kbps)',\n",
        "    'Avg Bearer TP UL (kbps)': 'Avg Throughput UL (kbps)',\n",
        "}, inplace=True)"
      ],
      "metadata": {
        "id": "C8cm-Awoobia"
      },
      "execution_count": 10,
      "outputs": []
    },
    {
      "cell_type": "code",
      "source": [
        "# Task 3.2 - Compute & list top, bottom, and most frequent values\n",
        "def get_top_bottom_frequent(series, n=10):\n",
        "    top_n = series.nlargest(n)\n",
        "    bottom_n = series.nsmallest(n)\n",
        "    most_frequent_n = series.value_counts().head(n)\n",
        "    return top_n, bottom_n, most_frequent_n"
      ],
      "metadata": {
        "id": "KPC4wRszohj3"
      },
      "execution_count": 11,
      "outputs": []
    },
    {
      "cell_type": "code",
      "source": [
        "# TCP retransmission\n",
        "tcp_retrans_top, tcp_retrans_bottom, tcp_retrans_frequent = get_top_bottom_frequent(aggregated_data['Avg TCP Retransmission (Bytes)'])"
      ],
      "metadata": {
        "id": "p4QnTkpCote9"
      },
      "execution_count": 12,
      "outputs": []
    },
    {
      "cell_type": "code",
      "source": [
        "# RTT DL\n",
        "rtt_dl_top, rtt_dl_bottom, rtt_dl_frequent = get_top_bottom_frequent(aggregated_data['Avg RTT DL (ms)'])"
      ],
      "metadata": {
        "id": "9l6ZI5Oko4s9"
      },
      "execution_count": 13,
      "outputs": []
    },
    {
      "cell_type": "code",
      "source": [
        "# RTT UL\n",
        "rtt_ul_top, rtt_ul_bottom, rtt_ul_frequent = get_top_bottom_frequent(aggregated_data['Avg RTT UL (ms)'])"
      ],
      "metadata": {
        "id": "axSiq751pA6i"
      },
      "execution_count": 14,
      "outputs": []
    },
    {
      "cell_type": "code",
      "source": [
        "# Throughput DL\n",
        "throughput_dl_top, throughput_dl_bottom, throughput_dl_frequent = get_top_bottom_frequent(aggregated_data['Avg Throughput DL (kbps)'])"
      ],
      "metadata": {
        "id": "TJrPKrQapGxX"
      },
      "execution_count": 15,
      "outputs": []
    },
    {
      "cell_type": "code",
      "source": [
        "# Throughput UL\n",
        "throughput_ul_top, throughput_ul_bottom, throughput_ul_frequent = get_top_bottom_frequent(aggregated_data['Avg Throughput UL (kbps)'])"
      ],
      "metadata": {
        "id": "eqpo8Z6cpO1P"
      },
      "execution_count": 16,
      "outputs": []
    },
    {
      "cell_type": "code",
      "source": [
        "# Print results\n",
        "print(\"TCP Retransmission Top 10:\")\n",
        "print(tcp_retrans_top)\n",
        "print(\"\\nTCP Retransmission Bottom 10:\")\n",
        "print(tcp_retrans_bottom)\n",
        "print(\"\\nTCP Retransmission Most Frequent 10:\")\n",
        "print(tcp_retrans_frequent)"
      ],
      "metadata": {
        "colab": {
          "base_uri": "https://localhost:8080/"
        },
        "id": "4N-XfidYpU-X",
        "outputId": "084987c2-f2f8-43b0-9455-c5db43daf7bc"
      },
      "execution_count": 17,
      "outputs": [
        {
          "output_type": "stream",
          "name": "stdout",
          "text": [
            "TCP Retransmission Top 10:\n",
            "3    2.064185e+07\n",
            "2    2.062201e+07\n",
            "1    2.061968e+07\n",
            "0    2.061141e+07\n",
            "Name: Avg TCP Retransmission (Bytes), dtype: float64\n",
            "\n",
            "TCP Retransmission Bottom 10:\n",
            "0    2.061141e+07\n",
            "1    2.061968e+07\n",
            "2    2.062201e+07\n",
            "3    2.064185e+07\n",
            "Name: Avg TCP Retransmission (Bytes), dtype: float64\n",
            "\n",
            "TCP Retransmission Most Frequent 10:\n",
            "Avg TCP Retransmission (Bytes)\n",
            "2.061141e+07    1\n",
            "2.061968e+07    1\n",
            "2.062201e+07    1\n",
            "2.064185e+07    1\n",
            "Name: count, dtype: int64\n"
          ]
        }
      ]
    },
    {
      "cell_type": "code",
      "source": [
        "print(\"\\nRTT DL Top 10:\")\n",
        "print(rtt_dl_top)\n",
        "print(\"\\nRTT DL Bottom 10:\")\n",
        "print(rtt_dl_bottom)\n",
        "print(\"\\nRTT DL Most Frequent 10:\")\n",
        "print(rtt_dl_frequent)"
      ],
      "metadata": {
        "colab": {
          "base_uri": "https://localhost:8080/"
        },
        "id": "w_DBEtASpvyw",
        "outputId": "468c8bf6-5ddb-4302-face-61ba434c6787"
      },
      "execution_count": 18,
      "outputs": [
        {
          "output_type": "stream",
          "name": "stdout",
          "text": [
            "\n",
            "RTT DL Top 10:\n",
            "2    77.996353\n",
            "1    75.792232\n",
            "3    75.609943\n",
            "0    72.047039\n",
            "Name: Avg RTT DL (ms), dtype: float64\n",
            "\n",
            "RTT DL Bottom 10:\n",
            "0    72.047039\n",
            "3    75.609943\n",
            "1    75.792232\n",
            "2    77.996353\n",
            "Name: Avg RTT DL (ms), dtype: float64\n",
            "\n",
            "RTT DL Most Frequent 10:\n",
            "Avg RTT DL (ms)\n",
            "72.047039    1\n",
            "75.792232    1\n",
            "77.996353    1\n",
            "75.609943    1\n",
            "Name: count, dtype: int64\n"
          ]
        }
      ]
    },
    {
      "cell_type": "code",
      "source": [
        "print(\"\\nThroughput DL Top 10:\")\n",
        "print(throughput_dl_top)\n",
        "print(\"\\nThroughput DL Bottom 10:\")\n",
        "print(throughput_dl_bottom)\n",
        "print(\"\\nThroughput DL Most Frequent 10:\")\n",
        "print(throughput_dl_frequent)"
      ],
      "metadata": {
        "colab": {
          "base_uri": "https://localhost:8080/"
        },
        "id": "GEoaA-6Yp10I",
        "outputId": "53c2c684-2915-4d72-a0ca-4652a3a9736e"
      },
      "execution_count": 19,
      "outputs": [
        {
          "output_type": "stream",
          "name": "stdout",
          "text": [
            "\n",
            "Throughput DL Top 10:\n",
            "0    45.678263\n",
            "1    44.556326\n",
            "2    44.281712\n",
            "3    37.833211\n",
            "Name: Avg Throughput DL (kbps), dtype: float64\n",
            "\n",
            "Throughput DL Bottom 10:\n",
            "3    37.833211\n",
            "2    44.281712\n",
            "1    44.556326\n",
            "0    45.678263\n",
            "Name: Avg Throughput DL (kbps), dtype: float64\n",
            "\n",
            "Throughput DL Most Frequent 10:\n",
            "Avg Throughput DL (kbps)\n",
            "45.678263    1\n",
            "44.556326    1\n",
            "44.281712    1\n",
            "37.833211    1\n",
            "Name: count, dtype: int64\n"
          ]
        }
      ]
    },
    {
      "cell_type": "code",
      "source": [
        "print(\"\\nThroughput UL Top 10:\")\n",
        "print(throughput_ul_top)\n",
        "print(\"\\nThroughput UL Bottom 10:\")\n",
        "print(throughput_ul_bottom)\n",
        "print(\"\\nThroughput UL Most Frequent 10:\")\n",
        "print(throughput_ul_frequent)"
      ],
      "metadata": {
        "colab": {
          "base_uri": "https://localhost:8080/"
        },
        "id": "sw7nxy7xp7lp",
        "outputId": "1683f0a3-cde6-4baf-f99c-64115edc91c7"
      },
      "execution_count": 20,
      "outputs": [
        {
          "output_type": "stream",
          "name": "stdout",
          "text": [
            "\n",
            "Throughput UL Top 10:\n",
            "0    48.900409\n",
            "2    48.268083\n",
            "1    48.079559\n",
            "3    43.484203\n",
            "Name: Avg Throughput UL (kbps), dtype: float64\n",
            "\n",
            "Throughput UL Bottom 10:\n",
            "3    43.484203\n",
            "1    48.079559\n",
            "2    48.268083\n",
            "0    48.900409\n",
            "Name: Avg Throughput UL (kbps), dtype: float64\n",
            "\n",
            "Throughput UL Most Frequent 10:\n",
            "Avg Throughput UL (kbps)\n",
            "48.900409    1\n",
            "48.079559    1\n",
            "48.268083    1\n",
            "43.484203    1\n",
            "Name: count, dtype: int64\n"
          ]
        }
      ]
    },
    {
      "cell_type": "code",
      "source": [
        "# Task 3.3 - Distribution Analysis\n",
        "# Distribution of the average throughput (DL and UL) per handset type\n",
        "throughput_distribution = aggregated_data.groupby('Handset Type').agg({\n",
        "    'Avg Throughput DL (kbps)': 'mean',\n",
        "    'Avg Throughput UL (kbps)': 'mean'\n",
        "}).reset_index()"
      ],
      "metadata": {
        "id": "Md2IihuwqA3w"
      },
      "execution_count": 21,
      "outputs": []
    },
    {
      "cell_type": "code",
      "source": [
        "# Distribution of the average TCP retransmission per handset type\n",
        "tcp_retransmission_distribution = aggregated_data.groupby('Handset Type').agg({\n",
        "    'Avg TCP Retransmission (Bytes)': 'mean'\n",
        "}).reset_index()"
      ],
      "metadata": {
        "id": "0tn7nMWYqLZJ"
      },
      "execution_count": 22,
      "outputs": []
    },
    {
      "cell_type": "code",
      "source": [
        "# Print distributions\n",
        "print(\"\\nAverage Throughput Distribution per Handset Type:\")\n",
        "print(throughput_distribution)"
      ],
      "metadata": {
        "colab": {
          "base_uri": "https://localhost:8080/"
        },
        "id": "NhNJ4kfXqSDr",
        "outputId": "54a84a8d-cd8e-4728-9331-3097fc3e3de0"
      },
      "execution_count": 23,
      "outputs": [
        {
          "output_type": "stream",
          "name": "stdout",
          "text": [
            "\n",
            "Average Throughput Distribution per Handset Type:\n",
            "                    Handset Type  Avg Throughput DL (kbps)  \\\n",
            "0        Apple iPhone 6S (A1688)                 45.678263   \n",
            "1       Samsung Galaxy A8 (2018)                 44.281712   \n",
            "2  Samsung Galaxy S9 Sm-G960F Ds                 37.833211   \n",
            "3                      undefined                 44.556326   \n",
            "\n",
            "   Avg Throughput UL (kbps)  \n",
            "0                 48.900409  \n",
            "1                 48.268083  \n",
            "2                 43.484203  \n",
            "3                 48.079559  \n"
          ]
        }
      ]
    },
    {
      "cell_type": "code",
      "source": [
        "print(\"\\nAverage TCP Retransmission Distribution per Handset Type:\")\n",
        "print(tcp_retransmission_distribution)"
      ],
      "metadata": {
        "colab": {
          "base_uri": "https://localhost:8080/"
        },
        "id": "t695Uwl3qZX7",
        "outputId": "7a8acc0b-6bce-4fc4-addb-9a05066e852e"
      },
      "execution_count": 24,
      "outputs": [
        {
          "output_type": "stream",
          "name": "stdout",
          "text": [
            "\n",
            "Average TCP Retransmission Distribution per Handset Type:\n",
            "                    Handset Type  Avg TCP Retransmission (Bytes)\n",
            "0        Apple iPhone 6S (A1688)                    2.061141e+07\n",
            "1       Samsung Galaxy A8 (2018)                    2.062201e+07\n",
            "2  Samsung Galaxy S9 Sm-G960F Ds                    2.064185e+07\n",
            "3                      undefined                    2.061968e+07\n"
          ]
        }
      ]
    },
    {
      "cell_type": "code",
      "source": [
        "# Task 3.4 - K-means Clustering\n",
        "# Use only numerical data for clustering\n",
        "clustering_data = aggregated_data[['Avg TCP Retransmission (Bytes)', 'Avg RTT DL (ms)', 'Avg RTT UL (ms)',\n",
        "                                   'Avg Throughput DL (kbps)', 'Avg Throughput UL (kbps)']]"
      ],
      "metadata": {
        "id": "-uzNgPFaqgHy"
      },
      "execution_count": 25,
      "outputs": []
    },
    {
      "cell_type": "code",
      "source": [
        "# Perform k-means clustering with k=3\n",
        "kmeans = KMeans(n_clusters=3, random_state=42)\n",
        "aggregated_data['Cluster'] = kmeans.fit_predict(clustering_data)"
      ],
      "metadata": {
        "colab": {
          "base_uri": "https://localhost:8080/"
        },
        "id": "pmJwfoRDql0p",
        "outputId": "296b048b-cf9e-43a7-ffeb-3eebe397a3d0"
      },
      "execution_count": 29,
      "outputs": [
        {
          "output_type": "stream",
          "name": "stderr",
          "text": [
            "/usr/local/lib/python3.10/dist-packages/sklearn/cluster/_kmeans.py:1416: FutureWarning: The default value of `n_init` will change from 10 to 'auto' in 1.4. Set the value of `n_init` explicitly to suppress the warning\n",
            "  super()._check_params_vs_input(X, default_n_init=10)\n"
          ]
        }
      ]
    },
    {
      "cell_type": "code",
      "source": [
        "# Cluster centroids\n",
        "centroids = kmeans.cluster_centers_"
      ],
      "metadata": {
        "id": "XBZAnXD7r8a3"
      },
      "execution_count": 30,
      "outputs": []
    },
    {
      "cell_type": "code",
      "source": [
        "# Print cluster centroids and interpretation\n",
        "print(\"\\nCluster Centroids:\")\n",
        "print(centroids)"
      ],
      "metadata": {
        "colab": {
          "base_uri": "https://localhost:8080/"
        },
        "id": "p7qXoHfOsI_c",
        "outputId": "b5d6bb32-e528-4861-c375-433ab80fed53"
      },
      "execution_count": 31,
      "outputs": [
        {
          "output_type": "stream",
          "name": "stdout",
          "text": [
            "\n",
            "Cluster Centroids:\n",
            "[[2.06208466e+07 7.68942923e+01 1.26669813e+01 4.44190191e+01\n",
            "  4.81738213e+01]\n",
            " [2.06418479e+07 7.56099433e+01 1.36164601e+01 3.78332109e+01\n",
            "  4.34842028e+01]\n",
            " [2.06114135e+07 7.20470394e+01 1.14520239e+01 4.56782628e+01\n",
            "  4.89004093e+01]]\n"
          ]
        }
      ]
    },
    {
      "cell_type": "code",
      "source": [
        "# Interpret the clusters\n",
        "for i in range(3):\n",
        "    cluster_data = aggregated_data[aggregated_data['Cluster'] == i]\n",
        "    print(f\"\\nCluster {i} Summary:\")\n",
        "    print(cluster_data.describe())"
      ],
      "metadata": {
        "colab": {
          "base_uri": "https://localhost:8080/"
        },
        "id": "JGydCmGFsNX-",
        "outputId": "ec597d3d-5d44-49d9-eba8-c2dee59c84a8"
      },
      "execution_count": 32,
      "outputs": [
        {
          "output_type": "stream",
          "name": "stdout",
          "text": [
            "\n",
            "Cluster 0 Summary:\n",
            "               IMSI  Avg TCP Retransmission (Bytes)  Avg RTT DL (ms)  \\\n",
            "count  2.000000e+00                    2.000000e+00         2.000000   \n",
            "mean   2.082015e+14                    2.062085e+07        76.894292   \n",
            "std    7.071068e+08                    1.644768e+03         1.558549   \n",
            "min    2.082010e+14                    2.061968e+07        75.792232   \n",
            "25%    2.082012e+14                    2.062027e+07        76.343262   \n",
            "50%    2.082015e+14                    2.062085e+07        76.894292   \n",
            "75%    2.082018e+14                    2.062143e+07        77.445323   \n",
            "max    2.082020e+14                    2.062201e+07        77.996353   \n",
            "\n",
            "       Avg RTT UL (ms)  Avg Throughput DL (kbps)  Avg Throughput UL (kbps)  \\\n",
            "count         2.000000                  2.000000                  2.000000   \n",
            "mean         12.666981                 44.419019                 48.173821   \n",
            "std           0.286218                  0.194181                  0.133306   \n",
            "min          12.464594                 44.281712                 48.079559   \n",
            "25%          12.565788                 44.350366                 48.126690   \n",
            "50%          12.666981                 44.419019                 48.173821   \n",
            "75%          12.768175                 44.487673                 48.220952   \n",
            "max          12.869368                 44.556326                 48.268083   \n",
            "\n",
            "       Cluster  \n",
            "count      2.0  \n",
            "mean       0.0  \n",
            "std        0.0  \n",
            "min        0.0  \n",
            "25%        0.0  \n",
            "50%        0.0  \n",
            "75%        0.0  \n",
            "max        0.0  \n",
            "\n",
            "Cluster 1 Summary:\n",
            "               IMSI  Avg TCP Retransmission (Bytes)  Avg RTT DL (ms)  \\\n",
            "count  1.000000e+00                    1.000000e+00         1.000000   \n",
            "mean   2.082100e+14                    2.064185e+07        75.609943   \n",
            "std             NaN                             NaN              NaN   \n",
            "min    2.082100e+14                    2.064185e+07        75.609943   \n",
            "25%    2.082100e+14                    2.064185e+07        75.609943   \n",
            "50%    2.082100e+14                    2.064185e+07        75.609943   \n",
            "75%    2.082100e+14                    2.064185e+07        75.609943   \n",
            "max    2.082100e+14                    2.064185e+07        75.609943   \n",
            "\n",
            "       Avg RTT UL (ms)  Avg Throughput DL (kbps)  Avg Throughput UL (kbps)  \\\n",
            "count          1.00000                  1.000000                  1.000000   \n",
            "mean          13.61646                 37.833211                 43.484203   \n",
            "std                NaN                       NaN                       NaN   \n",
            "min           13.61646                 37.833211                 43.484203   \n",
            "25%           13.61646                 37.833211                 43.484203   \n",
            "50%           13.61646                 37.833211                 43.484203   \n",
            "75%           13.61646                 37.833211                 43.484203   \n",
            "max           13.61646                 37.833211                 43.484203   \n",
            "\n",
            "       Cluster  \n",
            "count      1.0  \n",
            "mean       1.0  \n",
            "std        NaN  \n",
            "min        1.0  \n",
            "25%        1.0  \n",
            "50%        1.0  \n",
            "75%        1.0  \n",
            "max        1.0  \n",
            "\n",
            "Cluster 2 Summary:\n",
            "               IMSI  Avg TCP Retransmission (Bytes)  Avg RTT DL (ms)  \\\n",
            "count  1.000000e+00                    1.000000e+00         1.000000   \n",
            "mean   2.082000e+14                    2.061141e+07        72.047039   \n",
            "std             NaN                             NaN              NaN   \n",
            "min    2.082000e+14                    2.061141e+07        72.047039   \n",
            "25%    2.082000e+14                    2.061141e+07        72.047039   \n",
            "50%    2.082000e+14                    2.061141e+07        72.047039   \n",
            "75%    2.082000e+14                    2.061141e+07        72.047039   \n",
            "max    2.082000e+14                    2.061141e+07        72.047039   \n",
            "\n",
            "       Avg RTT UL (ms)  Avg Throughput DL (kbps)  Avg Throughput UL (kbps)  \\\n",
            "count         1.000000                  1.000000                  1.000000   \n",
            "mean         11.452024                 45.678263                 48.900409   \n",
            "std                NaN                       NaN                       NaN   \n",
            "min          11.452024                 45.678263                 48.900409   \n",
            "25%          11.452024                 45.678263                 48.900409   \n",
            "50%          11.452024                 45.678263                 48.900409   \n",
            "75%          11.452024                 45.678263                 48.900409   \n",
            "max          11.452024                 45.678263                 48.900409   \n",
            "\n",
            "       Cluster  \n",
            "count      1.0  \n",
            "mean       2.0  \n",
            "std        NaN  \n",
            "min        2.0  \n",
            "25%        2.0  \n",
            "50%        2.0  \n",
            "75%        2.0  \n",
            "max        2.0  \n"
          ]
        }
      ]
    },
    {
      "cell_type": "code",
      "source": [
        "# Plot the clusters\n",
        "plt.scatter(aggregated_data['Avg Throughput DL (kbps)'], aggregated_data['Avg TCP Retransmission (Bytes)'], c=aggregated_data['Cluster'])\n",
        "plt.xlabel('Avg Throughput DL (kbps)')\n",
        "plt.ylabel('Avg TCP Retransmission (Bytes)')\n",
        "plt.title('Cluster Visualization')\n",
        "plt.show()"
      ],
      "metadata": {
        "colab": {
          "base_uri": "https://localhost:8080/",
          "height": 472
        },
        "id": "1vI92hFRsYx1",
        "outputId": "0626a689-996b-4454-b47c-b9b08a84d67f"
      },
      "execution_count": 39,
      "outputs": [
        {
          "output_type": "display_data",
          "data": {
            "text/plain": [
              "<Figure size 640x480 with 1 Axes>"
            ],
            "image/png": "[encoded data removed]"
          },
          "metadata": {}
        }
      ]
    }
  ]
}